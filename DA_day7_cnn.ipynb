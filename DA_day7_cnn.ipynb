{
  "nbformat": 4,
  "nbformat_minor": 0,
  "metadata": {
    "colab": {
      "provenance": [],
      "mount_file_id": "1VIi6Iuz4Hs7GPBmObltXu_OakNx8E5F2",
      "authorship_tag": "ABX9TyO+mozGIpGr6z80pl37m1qY",
      "include_colab_link": true
    },
    "kernelspec": {
      "name": "python3",
      "display_name": "Python 3"
    },
    "language_info": {
      "name": "python"
    }
  },
  "cells": [
    {
      "cell_type": "markdown",
      "metadata": {
        "id": "view-in-github",
        "colab_type": "text"
      },
      "source": [
        "<a href=\"https://colab.research.google.com/github/kondapallimanohar/DataAnalysis/blob/main/DA_day7_cnn.ipynb\" target=\"_parent\"><img src=\"https://colab.research.google.com/assets/colab-badge.svg\" alt=\"Open In Colab\"/></a>"
      ]
    },
    {
      "cell_type": "code",
      "execution_count": null,
      "metadata": {
        "id": "L1wvO6pl77So"
      },
      "outputs": [],
      "source": [
        "import tensorflow as tf\n",
        "from tensorflow import keras\n",
        "from tensorflow.keras import layers\n",
        "from tensorflow.keras.preprocessing.image import ImageDataGenerator"
      ]
    },
    {
      "cell_type": "code",
      "source": [
        "#define image size and batch size\n",
        "IMG_SIZE=224\n",
        "BATCH_SIZE=32"
      ],
      "metadata": {
        "id": "CksnJR6Y8t2Y"
      },
      "execution_count": null,
      "outputs": []
    },
    {
      "cell_type": "code",
      "source": [
        "#Define data generators for train,validation and test sets\n",
        "train_datagen=ImageDataGenerator(\n",
        "    rescale=1./255,\n",
        "    validation_split=0.2\n",
        ")\n",
        "\n",
        "train_generator=train_datagen.flow_from_directory('/content/drive/MyDrive/Brain_Tumor_Detection/Brain_Tumor_Detection/train',\n",
        "    target_size=(IMG_SIZE,IMG_SIZE),\n",
        "    batch_size=BATCH_SIZE,\n",
        "    class_mode='binary',\n",
        "    subset='training')\n",
        "val_generator=train_datagen.flow_from_directory('/content/drive/MyDrive/Brain_Tumor_Detection/Brain_Tumor_Detection/train',\n",
        "    target_size=(IMG_SIZE,IMG_SIZE),\n",
        "    batch_size=BATCH_SIZE,\n",
        "    class_mode='binary',\n",
        "    subset='validation')\n",
        "test_generator=train_datagen.flow_from_directory('/content/drive/MyDrive/Brain_Tumor_Detection/Brain_Tumor_Detection/test',\n",
        "    target_size=(IMG_SIZE,IMG_SIZE),\n",
        "    batch_size=BATCH_SIZE,\n",
        "    class_mode='binary',\n",
        "    subset='validation')"
      ],
      "metadata": {
        "colab": {
          "base_uri": "https://localhost:8080/"
        },
        "id": "5qlVXg1t9BXx",
        "outputId": "854bf881-d581-491b-a50e-47e4edd8217e"
      },
      "execution_count": null,
      "outputs": [
        {
          "output_type": "stream",
          "name": "stdout",
          "text": [
            "Found 2419 images belonging to 2 classes.\n",
            "Found 604 images belonging to 2 classes.\n",
            "Found 12 images belonging to 1 classes.\n"
          ]
        }
      ]
    },
    {
      "cell_type": "code",
      "source": [
        "from google.colab import drive\n",
        "drive.mount('/content/drive')"
      ],
      "metadata": {
        "colab": {
          "base_uri": "https://localhost:8080/"
        },
        "id": "9SXjhsGGuXFN",
        "outputId": "d088ae55-cbc8-4fe9-c700-96fb8d8d253b"
      },
      "execution_count": null,
      "outputs": [
        {
          "output_type": "stream",
          "name": "stdout",
          "text": [
            "Drive already mounted at /content/drive; to attempt to forcibly remount, call drive.mount(\"/content/drive\", force_remount=True).\n"
          ]
        }
      ]
    },
    {
      "cell_type": "code",
      "source": [
        "#define the model\n",
        "model=keras.Sequential([\n",
        "    layers.Conv2D(32,(3,3),activation='relu',input_shape=(IMG_SIZE,IMG_SIZE,3)),\n",
        "    layers.MaxPooling2D((2,2)),\n",
        "    layers.Conv2D(64,(3,3),activation='relu'),\n",
        "    layers.MaxPooling2D((2,2)),\n",
        "    layers.Conv2D(128,(3,3),activation='relu'),\n",
        "    layers.MaxPooling2D((2,2)),\n",
        "    layers.Flatten(),\n",
        "    layers.Dense(128,activation='relu'),\n",
        "    layers.Dense(1,activation='sigmoid')\n",
        "])"
      ],
      "metadata": {
        "id": "fIcNC5xtnYe0"
      },
      "execution_count": null,
      "outputs": []
    },
    {
      "cell_type": "code",
      "source": [
        "#compile the model\n",
        "model.compile(optimizer='adam',loss='binary_crossentropy',metrics=['accuracy'])"
      ],
      "metadata": {
        "id": "NEEQtCzzphi5"
      },
      "execution_count": null,
      "outputs": []
    },
    {
      "cell_type": "code",
      "source": [
        "history=model.fit(train_generator,validation_data=val_generator,epochs=5)"
      ],
      "metadata": {
        "colab": {
          "base_uri": "https://localhost:8080/"
        },
        "id": "bOEHE8uip4ga",
        "outputId": "3636f71f-ec81-4c2b-aac9-5e382e933d8d"
      },
      "execution_count": null,
      "outputs": [
        {
          "output_type": "stream",
          "name": "stdout",
          "text": [
            "Epoch 1/5\n",
            "76/76 [==============================] - 313s 4s/step - loss: 0.5109 - accuracy: 0.7892 - val_loss: 0.3124 - val_accuracy: 0.8642\n",
            "Epoch 2/5\n",
            "76/76 [==============================] - 268s 4s/step - loss: 0.2199 - accuracy: 0.9181 - val_loss: 0.1853 - val_accuracy: 0.9305\n",
            "Epoch 3/5\n",
            "76/76 [==============================] - 264s 3s/step - loss: 0.1145 - accuracy: 0.9632 - val_loss: 0.1072 - val_accuracy: 0.9487\n",
            "Epoch 4/5\n",
            "76/76 [==============================] - 258s 3s/step - loss: 0.0637 - accuracy: 0.9822 - val_loss: 0.0634 - val_accuracy: 0.9785\n",
            "Epoch 5/5\n",
            "76/76 [==============================] - 258s 3s/step - loss: 0.0383 - accuracy: 0.9888 - val_loss: 0.0358 - val_accuracy: 0.9934\n"
          ]
        }
      ]
    },
    {
      "cell_type": "code",
      "source": [
        "#saving the model\n",
        "model.save(\"Model.h5\",\"label.txt\")"
      ],
      "metadata": {
        "id": "NCKD83oHqcXz"
      },
      "execution_count": null,
      "outputs": []
    },
    {
      "cell_type": "code",
      "source": [
        "from tensorflow.keras.models import load_model\n",
        "from tensorflow.keras.preprocessing import image\n",
        "import numpy as np"
      ],
      "metadata": {
        "id": "OMnP15azqngw"
      },
      "execution_count": null,
      "outputs": []
    },
    {
      "cell_type": "code",
      "source": [
        "#load the saved model\n",
        "model=load_model('/content/Model.h5')"
      ],
      "metadata": {
        "id": "XVHZl-d4rUp2"
      },
      "execution_count": null,
      "outputs": []
    },
    {
      "cell_type": "code",
      "source": [
        "#load and preprocess the test image\n",
        "test_image_path=('/content/drive/MyDrive/Brain_Tumor_Detection/Brain_Tumor_Detection/test/pred/pred17.jpg')\n",
        "img=image.load_img(test_image_path,target_size=(224,224))\n",
        "img_array=image.img_to_array(img)\n",
        "img_array=np.expand_dims(img_array,axis=0) #add batch dimension\n",
        "img_array /=255. #normalize the pixel values"
      ],
      "metadata": {
        "id": "QsZaJ9QKruxm"
      },
      "execution_count": null,
      "outputs": []
    },
    {
      "cell_type": "code",
      "source": [
        "#make predictions\n",
        "prediction=model.predict(img_array)\n",
        "#print the prediction\n",
        "if prediction<0.5:\n",
        "  print(\"prediction: No tumor(probability:\",prediction[0][0], \")\")\n",
        "else:\n",
        "  print(\"prediction:tumor present(probability:\",prediction[0][0], \")\")"
      ],
      "metadata": {
        "colab": {
          "base_uri": "https://localhost:8080/"
        },
        "id": "xpbh8KulsxY1",
        "outputId": "c5d12a5c-ad4f-45f0-8f46-d7bf94864eae"
      },
      "execution_count": null,
      "outputs": [
        {
          "output_type": "stream",
          "name": "stdout",
          "text": [
            "1/1 [==============================] - 0s 157ms/step\n",
            "prediction: No tumor(probability: 0.102236144 )\n"
          ]
        }
      ]
    }
  ]
}