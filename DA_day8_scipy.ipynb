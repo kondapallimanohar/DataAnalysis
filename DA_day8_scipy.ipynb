{
  "nbformat": 4,
  "nbformat_minor": 0,
  "metadata": {
    "colab": {
      "provenance": [],
      "authorship_tag": "ABX9TyO8NlnSBE0wIPgcogoIFzmR",
      "include_colab_link": true
    },
    "kernelspec": {
      "name": "python3",
      "display_name": "Python 3"
    },
    "language_info": {
      "name": "python"
    }
  },
  "cells": [
    {
      "cell_type": "markdown",
      "metadata": {
        "id": "view-in-github",
        "colab_type": "text"
      },
      "source": [
        "<a href=\"https://colab.research.google.com/github/kondapallimanohar/DataAnalysis/blob/main/DA_day8_scipy.ipynb\" target=\"_parent\"><img src=\"https://colab.research.google.com/assets/colab-badge.svg\" alt=\"Open In Colab\"/></a>"
      ]
    },
    {
      "cell_type": "code",
      "execution_count": null,
      "metadata": {
        "id": "yGhg1JADsH2D",
        "colab": {
          "base_uri": "https://localhost:8080/"
        },
        "outputId": "c6c2b430-58e4-4e1e-a95f-c6105bba36c0"
      },
      "outputs": [
        {
          "output_type": "stream",
          "name": "stdout",
          "text": [
            "Requirement already satisfied: scipy in /usr/local/lib/python3.10/dist-packages (1.11.4)\n",
            "Requirement already satisfied: numpy<1.28.0,>=1.21.6 in /usr/local/lib/python3.10/dist-packages (from scipy) (1.25.2)\n"
          ]
        }
      ],
      "source": [
        "pip install scipy"
      ]
    },
    {
      "cell_type": "code",
      "source": [
        "import scipy"
      ],
      "metadata": {
        "id": "YjZOMwha8U77"
      },
      "execution_count": null,
      "outputs": []
    },
    {
      "cell_type": "code",
      "source": [
        "#examole integration using quad function\n",
        "from scipy import integrate\n",
        "result,error=integrate.quad(lambda x:x**2,0,1)\n",
        "print(\"result:\",result)\n",
        "print(\"error:\",error)"
      ],
      "metadata": {
        "colab": {
          "base_uri": "https://localhost:8080/"
        },
        "id": "unPnBqmJ8cXt",
        "outputId": "5983be06-c282-4b2a-a830-d00fd3b2a44e"
      },
      "execution_count": null,
      "outputs": [
        {
          "output_type": "stream",
          "name": "stdout",
          "text": [
            "result: 0.33333333333333337\n",
            "error: 3.700743415417189e-15\n"
          ]
        }
      ]
    },
    {
      "cell_type": "code",
      "source": [
        "from scipy import integrate\n",
        "result,error=integrate.quad(lambda x:x**3,0,1)\n",
        "print(\"result:\",result)\n",
        "print(\"error:\",error)"
      ],
      "metadata": {
        "colab": {
          "base_uri": "https://localhost:8080/"
        },
        "id": "k7KTcirB9ncJ",
        "outputId": "fe73aed8-3df1-4c30-a1fd-be9c6df95964"
      },
      "execution_count": null,
      "outputs": [
        {
          "output_type": "stream",
          "name": "stdout",
          "text": [
            "result: 0.25\n",
            "error: 2.7755575615628914e-15\n"
          ]
        }
      ]
    },
    {
      "cell_type": "code",
      "source": [
        "import numpy as np\n",
        "from scipy import optimize"
      ],
      "metadata": {
        "id": "G7Cn65639ug3"
      },
      "execution_count": null,
      "outputs": []
    },
    {
      "cell_type": "code",
      "source": [
        "#optimizaton with minimize scalar\n",
        "result_optimization=optimize.minimize_scalar(lambda x:x**2+3*x+5)\n",
        "print(\"optimization result:\",result_optimization.x)"
      ],
      "metadata": {
        "colab": {
          "base_uri": "https://localhost:8080/"
        },
        "id": "-dosTjnE-Dky",
        "outputId": "1081cf91-d40e-443a-e5cd-d48efae4394e"
      },
      "execution_count": null,
      "outputs": [
        {
          "output_type": "stream",
          "name": "stdout",
          "text": [
            "optimization result: -1.5000000000000002\n"
          ]
        }
      ]
    },
    {
      "cell_type": "code",
      "source": [
        "square=lambda x:x**2\n",
        "#using the lambda function\n",
        "result=square(5)\n",
        "print(\"result\",result)"
      ],
      "metadata": {
        "colab": {
          "base_uri": "https://localhost:8080/"
        },
        "id": "XRsuIrm0-bUD",
        "outputId": "bbbe7972-defa-4085-d572-355b47708801"
      },
      "execution_count": null,
      "outputs": [
        {
          "output_type": "stream",
          "name": "stdout",
          "text": [
            "result 25\n"
          ]
        }
      ]
    },
    {
      "cell_type": "code",
      "source": [
        "add_numbers=lambda x,y:x+y\n",
        "#using the lambda function\n",
        "result=add_numbers(3,7)\n",
        "print(\"result\",result)"
      ],
      "metadata": {
        "colab": {
          "base_uri": "https://localhost:8080/"
        },
        "id": "wuGyl5fN_HUz",
        "outputId": "fb2bafd2-f42a-4449-986a-8ca710aabca2"
      },
      "execution_count": null,
      "outputs": [
        {
          "output_type": "stream",
          "name": "stdout",
          "text": [
            "result 10\n"
          ]
        }
      ]
    },
    {
      "cell_type": "code",
      "source": [
        "import numpy as np\n",
        "from scipy import interpolate"
      ],
      "metadata": {
        "id": "SPQG-2v0_Xl5"
      },
      "execution_count": null,
      "outputs": []
    },
    {
      "cell_type": "markdown",
      "source": [
        "y=y1+x-x1*(y2-y1)%(x2-x1)"
      ],
      "metadata": {
        "id": "NBdqmk4HClYx"
      }
    },
    {
      "cell_type": "code",
      "source": [
        "#interpolation\n",
        "x_data=np.array([0,1,2,3,4])\n",
        "y_data=np.array([0,2,1,3,5])\n",
        "interp_func=interpolate.interp1d(x_data,y_data,kind='linear')\n",
        "interp_result=interp_func(2.5)\n",
        "print(\"interpolation result:\",interp_result)"
      ],
      "metadata": {
        "colab": {
          "base_uri": "https://localhost:8080/"
        },
        "id": "84sXoXP7_x6L",
        "outputId": "86e8bca3-b2f2-4e45-dd40-790ec73c56dd"
      },
      "execution_count": null,
      "outputs": [
        {
          "output_type": "stream",
          "name": "stdout",
          "text": [
            "interpolation result: 2.0\n"
          ]
        }
      ]
    },
    {
      "cell_type": "code",
      "source": [
        "import numpy as np\n",
        "import pandas as pd\n",
        "import scipy.stats as stats\n",
        "import statsmodels.api as sm"
      ],
      "metadata": {
        "id": "UIrZhdSLA3GO"
      },
      "execution_count": null,
      "outputs": []
    },
    {
      "cell_type": "code",
      "source": [
        "#generate sample data\n",
        "np.random.seed(0)\n",
        "data=pd.DataFrame({\n",
        "    'Treatment':np.random.choice(['A','B','C'],size=100),\n",
        "    'score':np.random.normal(loc=10,scale=2,size=100)\n",
        "})\n",
        "print(data)"
      ],
      "metadata": {
        "colab": {
          "base_uri": "https://localhost:8080/"
        },
        "id": "z5IfqxCUFyDh",
        "outputId": "6e21ba36-8eda-4ef3-d449-3dca800c586e"
      },
      "execution_count": null,
      "outputs": [
        {
          "output_type": "stream",
          "name": "stdout",
          "text": [
            "   Treatment      score\n",
            "0          A   8.626821\n",
            "1          B  10.029747\n",
            "2          A   9.248668\n",
            "3          B   9.923553\n",
            "4          B  10.735949\n",
            "..       ...        ...\n",
            "95         A   9.933528\n",
            "96         C  10.131283\n",
            "97         A  10.531571\n",
            "98         B  12.303684\n",
            "99         C  10.276086\n",
            "\n",
            "[100 rows x 2 columns]\n"
          ]
        }
      ]
    },
    {
      "cell_type": "code",
      "source": [
        "#claculate mean score for each treatement group\n",
        "mean_score_per_group=data.groupby('Treatment')['score'].mean()\n",
        "print(mean_score_per_group)"
      ],
      "metadata": {
        "colab": {
          "base_uri": "https://localhost:8080/"
        },
        "id": "gDwZzKJAGkIa",
        "outputId": "4d2242e9-ae67-4f50-f65f-a09e3c825a99"
      },
      "execution_count": null,
      "outputs": [
        {
          "output_type": "stream",
          "name": "stdout",
          "text": [
            "Treatment\n",
            "A     9.611241\n",
            "B    10.099304\n",
            "C    10.010667\n",
            "Name: score, dtype: float64\n"
          ]
        }
      ]
    },
    {
      "cell_type": "code",
      "source": [
        "#andom treatment selections\n",
        "choices=['A','B','C']\n",
        "size=100\n",
        "treatment_column=np.random.choice(choices,size=size)\n",
        "print(treatment_column)"
      ],
      "metadata": {
        "colab": {
          "base_uri": "https://localhost:8080/"
        },
        "id": "ng-rE3Z3I9No",
        "outputId": "3f985f82-7eed-4205-d00e-2691432362bd"
      },
      "execution_count": null,
      "outputs": [
        {
          "output_type": "stream",
          "name": "stdout",
          "text": [
            "['B' 'B' 'C' 'A' 'B' 'A' 'B' 'B' 'C' 'A' 'C' 'A' 'C' 'A' 'C' 'A' 'A' 'A'\n",
            " 'A' 'B' 'C' 'A' 'A' 'B' 'C' 'B' 'A' 'A' 'A' 'A' 'A' 'B' 'A' 'C' 'C' 'C'\n",
            " 'A' 'A' 'C' 'A' 'C' 'C' 'A' 'B' 'B' 'B' 'A' 'A' 'B' 'A' 'A' 'B' 'C' 'C'\n",
            " 'A' 'C' 'B' 'B' 'C' 'B' 'C' 'C' 'B' 'C' 'A' 'A' 'C' 'B' 'B' 'C' 'C' 'B'\n",
            " 'A' 'C' 'A' 'C' 'A' 'C' 'B' 'C' 'B' 'A' 'B' 'B' 'C' 'C' 'A' 'B' 'A' 'A'\n",
            " 'A' 'C' 'A' 'B' 'A' 'C' 'B' 'A' 'B' 'C']\n"
          ]
        }
      ]
    },
    {
      "cell_type": "code",
      "source": [
        "#generate random numbers following a normal distribution\n",
        "mean=10\n",
        "std=2\n",
        "size=100\n",
        "score_values=mean+std*np.random.randn(size)\n",
        "print(score_values)"
      ],
      "metadata": {
        "colab": {
          "base_uri": "https://localhost:8080/"
        },
        "id": "fImv_kHHI5LW",
        "outputId": "0117c0a6-f53e-4280-a1ab-d09764ba7155"
      },
      "execution_count": null,
      "outputs": [
        {
          "output_type": "stream",
          "name": "stdout",
          "text": [
            "[11.04397546 12.39451973  9.23502757 11.38332384 10.70777002 12.09517067\n",
            "  9.15220753  2.97046376  7.31368654 12.85101225 10.45716402  9.48467248\n",
            " 10.10074143  7.23957825  9.47665587  9.64124061  8.61445885 12.27565373\n",
            "  9.6616855   8.47217266  9.00385379  9.27421777 10.52792062  8.74071618\n",
            "  9.05548319  6.97327793 12.21524936 10.3524775   8.11929292 11.85918866\n",
            "  7.87441016  8.22718746 13.84269391  9.08043895  7.82193113 11.96823459\n",
            "  7.68158735  9.12692581 12.01848906 11.42677914  8.54388456 11.67903292\n",
            " 12.47804196  6.43039223  8.40762832  7.19891747  9.63129885  7.21761377\n",
            " 10.07251948  8.37118888 11.39474565  6.52514152 10.2317114  10.73130289\n",
            "  9.85215307  9.01296486 16.20306117 11.71750831  7.69044895 11.88366868\n",
            "  9.43572972  8.04869067 10.19637338 11.81097991 12.03748287  9.77020229\n",
            " 13.48607744  9.35624162 11.65914219  9.58536401 12.23599721 12.12849937\n",
            " 12.30265967  8.45508459  7.41273144 11.35405362 10.8481104   9.02864765\n",
            "  9.89660553 11.13411274 12.13566715 10.54319148 11.23860353  9.88274801\n",
            " 12.5131428  10.59349439 10.79717145  7.89365124  8.72104747  9.70294624\n",
            "  6.85083571  9.00862361  9.76485041 10.74624032  9.22794246  7.53881377\n",
            "  6.08345678  8.96407463 11.15959759  7.29253432]\n"
          ]
        }
      ]
    },
    {
      "cell_type": "code",
      "source": [
        "#Hypothesis testing(t-test)\n",
        "group_A = data[data['Treatment']=='A']['score']\n",
        "group_B = data[data['Treatment']=='B']['score']\n",
        "t_stat,p_value =stats.ttest_ind(group_A,group_B)\n",
        "print(\"t-statistic:\",t_stat)\n",
        "print(\"p-value:\",p_value)"
      ],
      "metadata": {
        "colab": {
          "base_uri": "https://localhost:8080/"
        },
        "id": "jg5_7AraJ1EF",
        "outputId": "28acb1fd-b3de-4c38-f5e5-31df99339320"
      },
      "execution_count": null,
      "outputs": [
        {
          "output_type": "stream",
          "name": "stdout",
          "text": [
            "t-statistic: -1.0341676575352792\n",
            "p-value: 0.3045674995802033\n"
          ]
        }
      ]
    },
    {
      "cell_type": "markdown",
      "source": [
        "Task"
      ],
      "metadata": {
        "id": "12dNfiteEnus"
      }
    },
    {
      "cell_type": "code",
      "source": [
        "np.random.seed(0)\n",
        "data = pd.DataFrame({\n",
        "    'Age':np.random.normal(loc=10,scale=2,size=10),\n",
        "    'score':np.random.normal(loc=10,scale=2,size=10)\n",
        "})\n",
        "print(data)\n",
        "a=data['Age'].mean()\n",
        "print(a)\n",
        "b=data['score'].mean()\n",
        "print(b)\n",
        "t_stat,p_value=stats.ttest_ind(group_A,group_B)\n",
        "print(\"Age\",t_stat)\n",
        "print(\"score\",p_value)"
      ],
      "metadata": {
        "colab": {
          "base_uri": "https://localhost:8080/"
        },
        "id": "QPD5iLGqDhzv",
        "outputId": "98de8307-d43d-4e3c-8e2d-c2ce840608a1"
      },
      "execution_count": null,
      "outputs": [
        {
          "output_type": "stream",
          "name": "stdout",
          "text": [
            "         Age      score\n",
            "0  13.528105  10.288087\n",
            "1  10.800314  12.908547\n",
            "2  11.957476  11.522075\n",
            "3  14.481786  10.243350\n",
            "4  13.735116  10.887726\n",
            "5   8.045444  10.667349\n",
            "6  11.900177  12.988158\n",
            "7   9.697286   9.589683\n",
            "8   9.793562  10.626135\n",
            "9  10.821197   8.291809\n",
            "11.47604634145767\n",
            "10.80129203032487\n",
            "Age -1.0341676575352792\n",
            "score 0.3045674995802033\n"
          ]
        }
      ]
    },
    {
      "cell_type": "code",
      "source": [
        "#ANOVA (one-way ANOVA)\n",
        "f_stat,p_value = stats.f_oneway(data[data['Treatment']=='A']['score'],\n",
        "                                data[data['Treatment']=='B']['score'],\n",
        "                                data[data['Treatment']=='C']['score'])\n",
        "print(\"F-statistic:\",f_stat)\n",
        "print(\"p-value\",p_value)"
      ],
      "metadata": {
        "colab": {
          "base_uri": "https://localhost:8080/"
        },
        "id": "yMEbk7iBUcbt",
        "outputId": "e5b658db-507a-4891-ed7b-702638256c90"
      },
      "execution_count": null,
      "outputs": [
        {
          "output_type": "stream",
          "name": "stdout",
          "text": [
            "F-statistic: 0.6019178068930898\n",
            "p-value 0.5497930622874936\n"
          ]
        }
      ]
    },
    {
      "cell_type": "code",
      "source": [
        "import numpy as np\n",
        "import statsmodels.api as sm\n",
        "\n",
        "# Sample data\n",
        "X = np.array([1, 2, 3, 4, 5])  # Independent variable\n",
        "y = np.array([2, 4, 5, 4, 5])  # Dependent variable\n",
        "\n",
        "# Add a constant to the independent variable (for intercept estimation)\n",
        "X = sm.add_constant(X)\n",
        "\n",
        "# Create OLS model\n",
        "model = sm.OLS(y, X)\n",
        "\n",
        "# Fit the model\n",
        "results = model.fit()\n",
        "\n",
        "# Print summary of results\n",
        "print(results.summary())"
      ],
      "metadata": {
        "colab": {
          "base_uri": "https://localhost:8080/"
        },
        "id": "VAqLeMG48FnS",
        "outputId": "7a559889-9073-4e05-a395-aa8c457b900a"
      },
      "execution_count": null,
      "outputs": [
        {
          "output_type": "stream",
          "name": "stdout",
          "text": [
            "                            OLS Regression Results                            \n",
            "==============================================================================\n",
            "Dep. Variable:                      y   R-squared:                       0.600\n",
            "Model:                            OLS   Adj. R-squared:                  0.467\n",
            "Method:                 Least Squares   F-statistic:                     4.500\n",
            "Date:                Tue, 20 Feb 2024   Prob (F-statistic):              0.124\n",
            "Time:                        10:29:50   Log-Likelihood:                -5.2598\n",
            "No. Observations:                   5   AIC:                             14.52\n",
            "Df Residuals:                       3   BIC:                             13.74\n",
            "Df Model:                           1                                         \n",
            "Covariance Type:            nonrobust                                         \n",
            "==============================================================================\n",
            "                 coef    std err          t      P>|t|      [0.025      0.975]\n",
            "------------------------------------------------------------------------------\n",
            "const          2.2000      0.938      2.345      0.101      -0.785       5.185\n",
            "x1             0.6000      0.283      2.121      0.124      -0.300       1.500\n",
            "==============================================================================\n",
            "Omnibus:                          nan   Durbin-Watson:                   2.017\n",
            "Prob(Omnibus):                    nan   Jarque-Bera (JB):                0.570\n",
            "Skew:                           0.289   Prob(JB):                        0.752\n",
            "Kurtosis:                       1.450   Cond. No.                         8.37\n",
            "==============================================================================\n",
            "\n",
            "Notes:\n",
            "[1] Standard Errors assume that the covariance matrix of the errors is correctly specified.\n"
          ]
        },
        {
          "output_type": "stream",
          "name": "stderr",
          "text": [
            "/usr/local/lib/python3.10/dist-packages/statsmodels/stats/stattools.py:74: ValueWarning: omni_normtest is not valid with less than 8 observations; 5 samples were given.\n",
            "  warn(\"omni_normtest is not valid with less than 8 observations; %i \"\n"
          ]
        }
      ]
    }
  ]
}