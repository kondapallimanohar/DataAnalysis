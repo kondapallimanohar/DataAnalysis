{
  "nbformat": 4,
  "nbformat_minor": 0,
  "metadata": {
    "colab": {
      "provenance": [],
      "authorship_tag": "ABX9TyOCFaPodcLrMFoYm+3+f/Zm",
      "include_colab_link": true
    },
    "kernelspec": {
      "name": "python3",
      "display_name": "Python 3"
    },
    "language_info": {
      "name": "python"
    }
  },
  "cells": [
    {
      "cell_type": "markdown",
      "metadata": {
        "id": "view-in-github",
        "colab_type": "text"
      },
      "source": [
        "<a href=\"https://colab.research.google.com/github/kondapallimanohar/DataAnalysis/blob/main/DA_day1_Numpy.ipynb\" target=\"_parent\"><img src=\"https://colab.research.google.com/assets/colab-badge.svg\" alt=\"Open In Colab\"/></a>"
      ]
    },
    {
      "cell_type": "code",
      "execution_count": null,
      "metadata": {
        "id": "1px5gPHUcx_G"
      },
      "outputs": [],
      "source": [
        "#importing\n",
        "import numpy as np"
      ]
    },
    {
      "cell_type": "code",
      "source": [
        "#creating 1d array\n",
        "A=np.array([2,3,4,5])\n",
        "print(type(A))"
      ],
      "metadata": {
        "colab": {
          "base_uri": "https://localhost:8080/"
        },
        "id": "FJhwsUk9g76p",
        "outputId": "2e627f6b-9c45-4502-a094-e1b2418ddb55"
      },
      "execution_count": null,
      "outputs": [
        {
          "output_type": "stream",
          "name": "stdout",
          "text": [
            "<class 'numpy.ndarray'>\n"
          ]
        }
      ]
    },
    {
      "cell_type": "code",
      "source": [
        "#creating 2d array\n",
        "B=np.array([[2,3,4],[6,7,8]])\n",
        "print(B)"
      ],
      "metadata": {
        "colab": {
          "base_uri": "https://localhost:8080/"
        },
        "id": "maNsxAxHhSTO",
        "outputId": "bd193c30-018c-4e8b-876d-fe0bfc70dd69"
      },
      "execution_count": null,
      "outputs": [
        {
          "output_type": "stream",
          "name": "stdout",
          "text": [
            "[[2 3 4]\n",
            " [6 7 8]]\n"
          ]
        }
      ]
    },
    {
      "cell_type": "code",
      "source": [
        "c=np.array([[[2,3,4],[6,7,8]],[[6,9,0],[2,3,1]]])\n",
        "print(c)"
      ],
      "metadata": {
        "colab": {
          "base_uri": "https://localhost:8080/"
        },
        "id": "6MavLFO2hsf-",
        "outputId": "0ad30a7e-cecc-4c2a-d9d9-69578620aeb5"
      },
      "execution_count": null,
      "outputs": [
        {
          "output_type": "stream",
          "name": "stdout",
          "text": [
            "[[[2 3 4]\n",
            "  [6 7 8]]\n",
            "\n",
            " [[6 9 0]\n",
            "  [2 3 1]]]\n"
          ]
        }
      ]
    },
    {
      "cell_type": "code",
      "source": [
        "d=np.array([[[[2,3,4],[5,6,7],[8,9,0,]],[[6,9,0],[7,8,0],[6,7,4]]]])\n",
        "print(d)"
      ],
      "metadata": {
        "colab": {
          "base_uri": "https://localhost:8080/"
        },
        "id": "oIKqDOBGivil",
        "outputId": "cc294f37-0f79-4ac0-c18e-5a0bec8779f8"
      },
      "execution_count": null,
      "outputs": [
        {
          "output_type": "stream",
          "name": "stdout",
          "text": [
            "[[[[2 3 4]\n",
            "   [5 6 7]\n",
            "   [8 9 0]]\n",
            "\n",
            "  [[6 9 0]\n",
            "   [7 8 0]\n",
            "   [6 7 4]]]]\n"
          ]
        }
      ]
    },
    {
      "cell_type": "code",
      "source": [
        "print(A.ndim)\n",
        "print(B.ndim)\n",
        "print(c.ndim)\n",
        "print(d.ndim)"
      ],
      "metadata": {
        "colab": {
          "base_uri": "https://localhost:8080/"
        },
        "id": "iKkk5ClZjhDc",
        "outputId": "769162ac-ab8f-4a58-dce6-861efd021ae6"
      },
      "execution_count": null,
      "outputs": [
        {
          "output_type": "stream",
          "name": "stdout",
          "text": [
            "1\n",
            "2\n",
            "3\n",
            "4\n"
          ]
        }
      ]
    },
    {
      "cell_type": "code",
      "source": [
        "e=np.ones((3,2))\n",
        "print(e)"
      ],
      "metadata": {
        "colab": {
          "base_uri": "https://localhost:8080/"
        },
        "id": "6P_cMTlNldOB",
        "outputId": "dbd54be4-ad48-41f0-d862-39caa9e184bc"
      },
      "execution_count": null,
      "outputs": [
        {
          "output_type": "stream",
          "name": "stdout",
          "text": [
            "[[1. 1.]\n",
            " [1. 1.]\n",
            " [1. 1.]]\n"
          ]
        }
      ]
    },
    {
      "cell_type": "code",
      "source": [
        "f=np.ones((2,3,2))\n",
        "print(f)"
      ],
      "metadata": {
        "colab": {
          "base_uri": "https://localhost:8080/"
        },
        "id": "adCkARTjln18",
        "outputId": "11b3a539-c334-4265-fce5-545ac6bb540e"
      },
      "execution_count": null,
      "outputs": [
        {
          "output_type": "stream",
          "name": "stdout",
          "text": [
            "[[[1. 1.]\n",
            "  [1. 1.]\n",
            "  [1. 1.]]\n",
            "\n",
            " [[1. 1.]\n",
            "  [1. 1.]\n",
            "  [1. 1.]]]\n"
          ]
        }
      ]
    },
    {
      "cell_type": "code",
      "source": [
        "g=np.zeros((3,2))\n",
        "print(g)"
      ],
      "metadata": {
        "colab": {
          "base_uri": "https://localhost:8080/"
        },
        "id": "HcKe_G7Ml8yl",
        "outputId": "7a202faa-9de0-4634-96d5-667e946c923e"
      },
      "execution_count": null,
      "outputs": [
        {
          "output_type": "stream",
          "name": "stdout",
          "text": [
            "[[0. 0.]\n",
            " [0. 0.]\n",
            " [0. 0.]]\n"
          ]
        }
      ]
    },
    {
      "cell_type": "code",
      "source": [
        "h=np.eye(4)\n",
        "print(h)"
      ],
      "metadata": {
        "colab": {
          "base_uri": "https://localhost:8080/"
        },
        "id": "uSek9w6ImG8D",
        "outputId": "346f7371-2b8f-40a2-fb36-f81969ac6da5"
      },
      "execution_count": null,
      "outputs": [
        {
          "output_type": "stream",
          "name": "stdout",
          "text": [
            "[[1. 0. 0. 0.]\n",
            " [0. 1. 0. 0.]\n",
            " [0. 0. 1. 0.]\n",
            " [0. 0. 0. 1.]]\n"
          ]
        }
      ]
    },
    {
      "cell_type": "code",
      "source": [
        "i=np.eye(4,3)\n",
        "print(i)"
      ],
      "metadata": {
        "colab": {
          "base_uri": "https://localhost:8080/"
        },
        "id": "eomFD4NEmeQo",
        "outputId": "3198cc60-bd66-446b-9d64-80e8414902c2"
      },
      "execution_count": null,
      "outputs": [
        {
          "output_type": "stream",
          "name": "stdout",
          "text": [
            "[[1. 0. 0.]\n",
            " [0. 1. 0.]\n",
            " [0. 0. 1.]\n",
            " [0. 0. 0.]]\n"
          ]
        }
      ]
    },
    {
      "cell_type": "code",
      "source": [
        "#arrange\n",
        "j=np.arange(3,31,3) #(start,stop,step)\n",
        "print(j)"
      ],
      "metadata": {
        "colab": {
          "base_uri": "https://localhost:8080/"
        },
        "id": "e6XHVvoRn6rp",
        "outputId": "4b288fd7-ca68-4d14-82db-c172d164a1b5"
      },
      "execution_count": null,
      "outputs": [
        {
          "output_type": "stream",
          "name": "stdout",
          "text": [
            "[ 3  6  9 12 15 18 21 24 27 30]\n"
          ]
        }
      ]
    },
    {
      "cell_type": "code",
      "source": [
        "k=np.arange(4,41,4).reshape(5,2)\n",
        "print(k)"
      ],
      "metadata": {
        "colab": {
          "base_uri": "https://localhost:8080/"
        },
        "id": "6zrqQFl7oVRz",
        "outputId": "7c25b6c0-3115-4cfc-aacb-3c2b13211413"
      },
      "execution_count": null,
      "outputs": [
        {
          "output_type": "stream",
          "name": "stdout",
          "text": [
            "[[ 4  8]\n",
            " [12 16]\n",
            " [20 24]\n",
            " [28 32]\n",
            " [36 40]]\n"
          ]
        }
      ]
    },
    {
      "cell_type": "code",
      "source": [
        "l=np.arange(5,1001,5)\n",
        "print(l)"
      ],
      "metadata": {
        "colab": {
          "base_uri": "https://localhost:8080/"
        },
        "id": "fAykphaGo-nb",
        "outputId": "1e84692e-54cc-4758-f7a7-510f9822bba3"
      },
      "execution_count": null,
      "outputs": [
        {
          "output_type": "stream",
          "name": "stdout",
          "text": [
            "[   5   10   15   20   25   30   35   40   45   50   55   60   65   70\n",
            "   75   80   85   90   95  100  105  110  115  120  125  130  135  140\n",
            "  145  150  155  160  165  170  175  180  185  190  195  200  205  210\n",
            "  215  220  225  230  235  240  245  250  255  260  265  270  275  280\n",
            "  285  290  295  300  305  310  315  320  325  330  335  340  345  350\n",
            "  355  360  365  370  375  380  385  390  395  400  405  410  415  420\n",
            "  425  430  435  440  445  450  455  460  465  470  475  480  485  490\n",
            "  495  500  505  510  515  520  525  530  535  540  545  550  555  560\n",
            "  565  570  575  580  585  590  595  600  605  610  615  620  625  630\n",
            "  635  640  645  650  655  660  665  670  675  680  685  690  695  700\n",
            "  705  710  715  720  725  730  735  740  745  750  755  760  765  770\n",
            "  775  780  785  790  795  800  805  810  815  820  825  830  835  840\n",
            "  845  850  855  860  865  870  875  880  885  890  895  900  905  910\n",
            "  915  920  925  930  935  940  945  950  955  960  965  970  975  980\n",
            "  985  990  995 1000]\n"
          ]
        }
      ]
    },
    {
      "cell_type": "code",
      "source": [
        "m=np.linspace(12,24,10)\n",
        "print(m)"
      ],
      "metadata": {
        "colab": {
          "base_uri": "https://localhost:8080/"
        },
        "id": "aR6xOydIqMwI",
        "outputId": "8b688182-cd88-4309-feab-1747b1194b0d"
      },
      "execution_count": null,
      "outputs": [
        {
          "output_type": "stream",
          "name": "stdout",
          "text": [
            "[12.         13.33333333 14.66666667 16.         17.33333333 18.66666667\n",
            " 20.         21.33333333 22.66666667 24.        ]\n"
          ]
        }
      ]
    },
    {
      "cell_type": "code",
      "source": [
        "n=np.linspace(15,3,10)\n",
        "print(n)"
      ],
      "metadata": {
        "colab": {
          "base_uri": "https://localhost:8080/"
        },
        "id": "P7ezDPCErPBo",
        "outputId": "b7e7939c-9b37-41ec-cb9a-0d192581994f"
      },
      "execution_count": null,
      "outputs": [
        {
          "output_type": "stream",
          "name": "stdout",
          "text": [
            "[15.         13.66666667 12.33333333 11.          9.66666667  8.33333333\n",
            "  7.          5.66666667  4.33333333  3.        ]\n"
          ]
        }
      ]
    },
    {
      "cell_type": "code",
      "source": [
        "o=np.arange(1,7).reshape(2,3)\n",
        "print(o)\n",
        "p=np.arange(9,15).reshape(2,3)\n",
        "print(p)"
      ],
      "metadata": {
        "colab": {
          "base_uri": "https://localhost:8080/"
        },
        "id": "fkI9VPq5rb8V",
        "outputId": "7c58c64d-eb1d-4a51-855b-dbc42192e42c"
      },
      "execution_count": null,
      "outputs": [
        {
          "output_type": "stream",
          "name": "stdout",
          "text": [
            "[[1 2 3]\n",
            " [4 5 6]]\n",
            "[[ 9 10 11]\n",
            " [12 13 14]]\n"
          ]
        }
      ]
    },
    {
      "cell_type": "code",
      "source": [
        "print(o+p)"
      ],
      "metadata": {
        "colab": {
          "base_uri": "https://localhost:8080/"
        },
        "id": "jnwGTkTGrpv5",
        "outputId": "256de554-625d-4855-96af-b5c43db642ec"
      },
      "execution_count": null,
      "outputs": [
        {
          "output_type": "stream",
          "name": "stdout",
          "text": [
            "[[10 12 14]\n",
            " [16 18 20]]\n"
          ]
        }
      ]
    },
    {
      "cell_type": "code",
      "source": [
        "q=np.sum((o,p))\n",
        "print(q)"
      ],
      "metadata": {
        "colab": {
          "base_uri": "https://localhost:8080/"
        },
        "id": "xXoF_HPxs5Qo",
        "outputId": "45caaa4b-4f9b-4be9-8861-7ddb9dfc7aa6"
      },
      "execution_count": null,
      "outputs": [
        {
          "output_type": "stream",
          "name": "stdout",
          "text": [
            "90\n"
          ]
        }
      ]
    },
    {
      "cell_type": "code",
      "source": [
        "r=np.sum((o,p),axis=0)\n",
        "print(r)"
      ],
      "metadata": {
        "colab": {
          "base_uri": "https://localhost:8080/"
        },
        "id": "Z0pLQ9yotGnx",
        "outputId": "b45e89bd-7063-4967-ad25-4a76df172e56"
      },
      "execution_count": null,
      "outputs": [
        {
          "output_type": "stream",
          "name": "stdout",
          "text": [
            "[[10 12 14]\n",
            " [16 18 20]]\n"
          ]
        }
      ]
    },
    {
      "cell_type": "code",
      "source": [
        "r=np.sum((o,p),axis=2)\n",
        "print(r)"
      ],
      "metadata": {
        "colab": {
          "base_uri": "https://localhost:8080/"
        },
        "id": "yY_AbVcPvXVk",
        "outputId": "6a1f572d-bae1-409d-8748-eef1de0f9371"
      },
      "execution_count": null,
      "outputs": [
        {
          "output_type": "stream",
          "name": "stdout",
          "text": [
            "[[ 6 15]\n",
            " [30 39]]\n"
          ]
        }
      ]
    },
    {
      "cell_type": "code",
      "source": [
        "h=np.ones((4,2))\n",
        "g=np.ones((4,2))\n",
        "print(np.sum((h,g),axis=0))"
      ],
      "metadata": {
        "colab": {
          "base_uri": "https://localhost:8080/"
        },
        "id": "bOtL6s77w2Wo",
        "outputId": "1d6a3d41-b28c-45fa-d790-3a9cbfb2df4f"
      },
      "execution_count": null,
      "outputs": [
        {
          "output_type": "stream",
          "name": "stdout",
          "text": [
            "[[2. 2.]\n",
            " [2. 2.]\n",
            " [2. 2.]\n",
            " [2. 2.]]\n"
          ]
        }
      ]
    },
    {
      "cell_type": "code",
      "source": [
        "h=np.ones((4,2))\n",
        "g=np.ones((4,2))\n",
        "print(np.sum((h,g),axis=1))"
      ],
      "metadata": {
        "colab": {
          "base_uri": "https://localhost:8080/"
        },
        "id": "86FqzR3Nxffd",
        "outputId": "af9c462f-b9ae-458b-a223-60abe55621d5"
      },
      "execution_count": null,
      "outputs": [
        {
          "output_type": "stream",
          "name": "stdout",
          "text": [
            "[[4. 4.]\n",
            " [4. 4.]]\n"
          ]
        }
      ]
    },
    {
      "cell_type": "code",
      "source": [
        "a=np.array([[1,1],[0,1]])\n",
        "b=np.array([[2,0],[3,4]])\n",
        "print(a*b)"
      ],
      "metadata": {
        "colab": {
          "base_uri": "https://localhost:8080/"
        },
        "id": "8FOvZ0bAxsjN",
        "outputId": "e81073aa-32b9-47b3-f11c-92899fa654b9"
      },
      "execution_count": null,
      "outputs": [
        {
          "output_type": "stream",
          "name": "stdout",
          "text": [
            "[[2 0]\n",
            " [0 4]]\n"
          ]
        }
      ]
    },
    {
      "cell_type": "code",
      "source": [
        "print(a@b)"
      ],
      "metadata": {
        "colab": {
          "base_uri": "https://localhost:8080/"
        },
        "id": "fgMXrp4gyFk2",
        "outputId": "45f57721-8f43-455b-c29e-c8abf6f201b3"
      },
      "execution_count": null,
      "outputs": [
        {
          "output_type": "stream",
          "name": "stdout",
          "text": [
            "[[5 4]\n",
            " [3 4]]\n"
          ]
        }
      ]
    },
    {
      "cell_type": "code",
      "source": [
        "b=np.array([25,289,361,81])\n",
        "for i in b:\n",
        "  print(np.sqrt(i),\"square is\",i)"
      ],
      "metadata": {
        "colab": {
          "base_uri": "https://localhost:8080/"
        },
        "id": "P-Nk-A1lz-3u",
        "outputId": "d810a2f5-98b3-459e-8fa9-1ba387de68e8"
      },
      "execution_count": null,
      "outputs": [
        {
          "output_type": "stream",
          "name": "stdout",
          "text": [
            "5.0 square is 25\n",
            "17.0 square is 289\n",
            "19.0 square is 361\n",
            "9.0 square is 81\n"
          ]
        }
      ]
    },
    {
      "cell_type": "code",
      "source": [
        "a=np.array([34,35,36,37,38,39])\n",
        "a.resize(2,3)\n",
        "b=np.array([4,5,6,7,8,9])\n",
        "b.resize(2,3)\n",
        "print(np.vstack((a,b))) #columns\n",
        "print(\"\\n\")\n",
        "print(np.hstack((a,b))) #rows"
      ],
      "metadata": {
        "colab": {
          "base_uri": "https://localhost:8080/"
        },
        "id": "zWs5M5Rd55oF",
        "outputId": "6fed2954-19e6-4f35-a2a2-39b1d6a9a1cd"
      },
      "execution_count": null,
      "outputs": [
        {
          "output_type": "stream",
          "name": "stdout",
          "text": [
            "[[34 35 36]\n",
            " [37 38 39]\n",
            " [ 4  5  6]\n",
            " [ 7  8  9]]\n",
            "\n",
            "\n",
            "[[34 35 36  4  5  6]\n",
            " [37 38 39  7  8  9]]\n"
          ]
        }
      ]
    },
    {
      "cell_type": "code",
      "source": [
        "c=np.arange(30).reshape(2,3,5)\n",
        "print(c)\n",
        "print(\"\\n\")\n",
        "print(np.dstack(c))\n",
        "#number of rows becomes number of groups\n",
        "#columns become rows\n",
        "#group becomes columns"
      ],
      "metadata": {
        "colab": {
          "base_uri": "https://localhost:8080/"
        },
        "id": "xtE1154j9N7_",
        "outputId": "792d7635-c58c-49d3-f8e1-4cc291d6374b"
      },
      "execution_count": null,
      "outputs": [
        {
          "output_type": "stream",
          "name": "stdout",
          "text": [
            "[[[ 0  1  2  3  4]\n",
            "  [ 5  6  7  8  9]\n",
            "  [10 11 12 13 14]]\n",
            "\n",
            " [[15 16 17 18 19]\n",
            "  [20 21 22 23 24]\n",
            "  [25 26 27 28 29]]]\n",
            "\n",
            "\n",
            "[[[ 0 15]\n",
            "  [ 1 16]\n",
            "  [ 2 17]\n",
            "  [ 3 18]\n",
            "  [ 4 19]]\n",
            "\n",
            " [[ 5 20]\n",
            "  [ 6 21]\n",
            "  [ 7 22]\n",
            "  [ 8 23]\n",
            "  [ 9 24]]\n",
            "\n",
            " [[10 25]\n",
            "  [11 26]\n",
            "  [12 27]\n",
            "  [13 28]\n",
            "  [14 29]]]\n"
          ]
        }
      ]
    }
  ]
}