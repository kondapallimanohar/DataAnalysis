{
  "cells": [
    {
      "cell_type": "markdown",
      "metadata": {
        "id": "view-in-github",
        "colab_type": "text"
      },
      "source": [
        "<a href=\"https://colab.research.google.com/github/kondapallimanohar/DataAnalysis/blob/main/DAday5_(1).ipynb\" target=\"_parent\"><img src=\"https://colab.research.google.com/assets/colab-badge.svg\" alt=\"Open In Colab\"/></a>"
      ]
    },
    {
      "cell_type": "code",
      "execution_count": null,
      "id": "1a0f064a",
      "metadata": {
        "id": "1a0f064a",
        "outputId": "23f5cde1-d24f-4450-cf22-68c2a42feb99"
      },
      "outputs": [
        {
          "name": "stdout",
          "output_type": "stream",
          "text": [
            "Requirement already satisfied: selenium in c:\\users\\k.m.s.subrahmanyam\\anaconda3\\lib\\site-packages (4.17.2)\n",
            "Requirement already satisfied: urllib3[socks]<3,>=1.26 in c:\\users\\k.m.s.subrahmanyam\\anaconda3\\lib\\site-packages (from selenium) (1.26.16)\n",
            "Requirement already satisfied: trio~=0.17 in c:\\users\\k.m.s.subrahmanyam\\anaconda3\\lib\\site-packages (from selenium) (0.24.0)\n",
            "Requirement already satisfied: trio-websocket~=0.9 in c:\\users\\k.m.s.subrahmanyam\\anaconda3\\lib\\site-packages (from selenium) (0.11.1)\n",
            "Requirement already satisfied: certifi>=2021.10.8 in c:\\users\\k.m.s.subrahmanyam\\anaconda3\\lib\\site-packages (from selenium) (2023.7.22)\n",
            "Requirement already satisfied: typing_extensions>=4.9.0 in c:\\users\\k.m.s.subrahmanyam\\anaconda3\\lib\\site-packages (from selenium) (4.9.0)\n",
            "Requirement already satisfied: attrs>=20.1.0 in c:\\users\\k.m.s.subrahmanyam\\anaconda3\\lib\\site-packages (from trio~=0.17->selenium) (22.1.0)\n",
            "Requirement already satisfied: sortedcontainers in c:\\users\\k.m.s.subrahmanyam\\anaconda3\\lib\\site-packages (from trio~=0.17->selenium) (2.4.0)\n",
            "Requirement already satisfied: idna in c:\\users\\k.m.s.subrahmanyam\\anaconda3\\lib\\site-packages (from trio~=0.17->selenium) (3.4)\n",
            "Requirement already satisfied: outcome in c:\\users\\k.m.s.subrahmanyam\\anaconda3\\lib\\site-packages (from trio~=0.17->selenium) (1.3.0.post0)\n",
            "Requirement already satisfied: sniffio>=1.3.0 in c:\\users\\k.m.s.subrahmanyam\\anaconda3\\lib\\site-packages (from trio~=0.17->selenium) (1.3.0)\n",
            "Requirement already satisfied: cffi>=1.14 in c:\\users\\k.m.s.subrahmanyam\\anaconda3\\lib\\site-packages (from trio~=0.17->selenium) (1.15.1)\n",
            "Requirement already satisfied: wsproto>=0.14 in c:\\users\\k.m.s.subrahmanyam\\anaconda3\\lib\\site-packages (from trio-websocket~=0.9->selenium) (1.2.0)\n",
            "Requirement already satisfied: PySocks!=1.5.7,<2.0,>=1.5.6 in c:\\users\\k.m.s.subrahmanyam\\anaconda3\\lib\\site-packages (from urllib3[socks]<3,>=1.26->selenium) (1.7.1)\n",
            "Requirement already satisfied: pycparser in c:\\users\\k.m.s.subrahmanyam\\anaconda3\\lib\\site-packages (from cffi>=1.14->trio~=0.17->selenium) (2.21)\n",
            "Requirement already satisfied: h11<1,>=0.9.0 in c:\\users\\k.m.s.subrahmanyam\\anaconda3\\lib\\site-packages (from wsproto>=0.14->trio-websocket~=0.9->selenium) (0.14.0)\n",
            "Note: you may need to restart the kernel to use updated packages.\n"
          ]
        }
      ],
      "source": [
        "pip install selenium"
      ]
    },
    {
      "cell_type": "code",
      "execution_count": null,
      "id": "ec167db5",
      "metadata": {
        "scrolled": true,
        "id": "ec167db5",
        "outputId": "ab621727-83bc-4a2b-b73f-31969db27721"
      },
      "outputs": [
        {
          "name": "stdout",
          "output_type": "stream",
          "text": [
            "Requirement already satisfied: webdriver_manager in c:\\users\\k.m.s.subrahmanyam\\anaconda3\\lib\\site-packages (4.0.1)\n",
            "Requirement already satisfied: requests in c:\\users\\k.m.s.subrahmanyam\\anaconda3\\lib\\site-packages (from webdriver_manager) (2.31.0)\n",
            "Requirement already satisfied: python-dotenv in c:\\users\\k.m.s.subrahmanyam\\anaconda3\\lib\\site-packages (from webdriver_manager) (0.21.0)\n",
            "Requirement already satisfied: packaging in c:\\users\\k.m.s.subrahmanyam\\anaconda3\\lib\\site-packages (from webdriver_manager) (23.1)\n",
            "Requirement already satisfied: charset-normalizer<4,>=2 in c:\\users\\k.m.s.subrahmanyam\\anaconda3\\lib\\site-packages (from requests->webdriver_manager) (2.0.4)\n",
            "Requirement already satisfied: idna<4,>=2.5 in c:\\users\\k.m.s.subrahmanyam\\anaconda3\\lib\\site-packages (from requests->webdriver_manager) (3.4)\n",
            "Requirement already satisfied: urllib3<3,>=1.21.1 in c:\\users\\k.m.s.subrahmanyam\\anaconda3\\lib\\site-packages (from requests->webdriver_manager) (1.26.16)\n",
            "Requirement already satisfied: certifi>=2017.4.17 in c:\\users\\k.m.s.subrahmanyam\\anaconda3\\lib\\site-packages (from requests->webdriver_manager) (2023.7.22)\n",
            "Note: you may need to restart the kernel to use updated packages.\n"
          ]
        }
      ],
      "source": [
        "pip install webdriver_manager"
      ]
    },
    {
      "cell_type": "code",
      "execution_count": null,
      "id": "f091d8c6",
      "metadata": {
        "id": "f091d8c6"
      },
      "outputs": [],
      "source": [
        "import selenium"
      ]
    },
    {
      "cell_type": "code",
      "execution_count": null,
      "id": "f22d032a",
      "metadata": {
        "id": "f22d032a"
      },
      "outputs": [],
      "source": [
        "import webdriver_manager"
      ]
    },
    {
      "cell_type": "code",
      "execution_count": null,
      "id": "584d4c8a",
      "metadata": {
        "id": "584d4c8a"
      },
      "outputs": [],
      "source": [
        "import pandas as pd"
      ]
    },
    {
      "cell_type": "code",
      "execution_count": null,
      "id": "22fe1434",
      "metadata": {
        "id": "22fe1434"
      },
      "outputs": [],
      "source": [
        "from selenium import webdriver\n",
        "from time import sleep\n",
        "from webdriver_manager.chrome import ChromeDriverManager\n",
        "from selenium.webdriver.common.by import By\n",
        "from selenium.webdriver.common.keys import Keys"
      ]
    },
    {
      "cell_type": "code",
      "execution_count": null,
      "id": "a912918d",
      "metadata": {
        "id": "a912918d"
      },
      "outputs": [],
      "source": [
        "from selenium import webdriver\n",
        "from time import sleep\n",
        "from webdriver_manager.chrome import ChromeDriverManager\n",
        "from selenium.webdriver.common.by import By\n",
        "from selenium.webdriver.common.keys import Keys"
      ]
    },
    {
      "cell_type": "code",
      "execution_count": null,
      "id": "19d0ed03",
      "metadata": {
        "id": "19d0ed03"
      },
      "outputs": [],
      "source": [
        "#define options and set capabilities\n",
        "options=webdriver.ChromeOptions()\n",
        "options.add_argument('--some-options')"
      ]
    },
    {
      "cell_type": "code",
      "execution_count": null,
      "id": "c0413c0b",
      "metadata": {
        "id": "c0413c0b"
      },
      "outputs": [],
      "source": [
        "#create webdriver instance with options\n",
        "driver =webdriver.Chrome(options=options)"
      ]
    },
    {
      "cell_type": "code",
      "execution_count": null,
      "id": "29b7e5a2",
      "metadata": {
        "id": "29b7e5a2",
        "outputId": "f33d6aca-4b0c-429d-d535-c6f2085adf73"
      },
      "outputs": [
        {
          "name": "stdout",
          "output_type": "stream",
          "text": [
            "chrome\n"
          ]
        }
      ],
      "source": [
        "#access browser capabilkities\n",
        "browser_name = options.to_capabilities()[\"browserName\"]\n",
        "print(browser_name)\n"
      ]
    },
    {
      "cell_type": "code",
      "execution_count": null,
      "id": "3c3bffa5",
      "metadata": {
        "id": "3c3bffa5"
      },
      "outputs": [],
      "source": [
        "driver.get('https://www.amazon.in/')"
      ]
    },
    {
      "cell_type": "code",
      "execution_count": null,
      "id": "dfee7fdc",
      "metadata": {
        "id": "dfee7fdc"
      },
      "outputs": [],
      "source": []
    },
    {
      "cell_type": "code",
      "execution_count": null,
      "id": "7c9520c2",
      "metadata": {
        "id": "7c9520c2"
      },
      "outputs": [],
      "source": [
        "search=driver.find_element(By.ID,\"twotabsearchtextbox\")"
      ]
    },
    {
      "cell_type": "code",
      "execution_count": null,
      "id": "18d2e369",
      "metadata": {
        "id": "18d2e369"
      },
      "outputs": [],
      "source": [
        "search.send_keys(\"Acer laptops\")"
      ]
    },
    {
      "cell_type": "code",
      "execution_count": null,
      "id": "66f971b6",
      "metadata": {
        "id": "66f971b6"
      },
      "outputs": [],
      "source": [
        "search=driver.find_element(By.ID,\"nav-search-submit-button\").click()"
      ]
    },
    {
      "cell_type": "code",
      "execution_count": null,
      "id": "42a789fc",
      "metadata": {
        "id": "42a789fc"
      },
      "outputs": [],
      "source": [
        "driver.find_element(By.XPATH,\"//span[text()='Acer']\").click()"
      ]
    },
    {
      "cell_type": "code",
      "execution_count": null,
      "id": "8229c3db",
      "metadata": {
        "id": "8229c3db"
      },
      "outputs": [],
      "source": []
    },
    {
      "cell_type": "code",
      "execution_count": null,
      "id": "74002ecd",
      "metadata": {
        "id": "74002ecd",
        "outputId": "a3f16e92-44ef-4bb0-c773-60fbd4f43e48"
      },
      "outputs": [
        {
          "name": "stdout",
          "output_type": "stream",
          "text": [
            "['Acer One 14 Business Laptop AMD Ryzen 3 3250U Processor (Windows 11 Home/8GB RAM/1 TB HDD/AMD Radeon Graphics/MS Office) Z2-493 with 35.56 cm (14.0\") HD Display', 'Acer Aspire Lite AMD Ryzen 5 5500U Premium Thin and Light Laptop (16 GB RAM/512 GB SSD/Windows 11 Home) AL15-41, 39.62 cm (15.6\") Full HD Display, Metal Body, Steel Gray, 1.59 KG', 'Acer Aspire Lite 11th Gen Intel Core i3 Premium Metal Laptop (8GB RAM/256GB SSD/Windows 11 Home) AL15-51, 39.62cm (15.6\") Full HD Display, Metal Body, Steel Gray, 1.59 Kg', 'Acer Aspire Lite 12th Gen Intel Core i3-1215U Premium Metal Laptop (Windows 11 Home/8 GB RAM/512GB SSD) AL15-52, 39.62cm (15.6\") Full HD Display, Metal Body, Steel Gray, 1.59 Kg', 'Acer Aspire Lite 12th Gen Intel Core i5-1235U Thin and Light Laptop (Windows 11 Home/16GB RAM/512GB SSD/Intel Iris Xe Graphics) AL15-52, 39.62cm (15.6\") Full HD Display, Metal Body, Steel Gray, 1.6 KG', 'Acer Travelmate Business Laptop AMD Ryzen 5 5500U Processor (16GB DDR4/ 512GB SSD/AMD Radeon Graphics/Windows 11 Home) TMP214-41-G3 with 35.6 cm (14 Inches) HD Display', 'Acer Nitro V Gaming Laptop 13th Gen Intel Core i5-13420H with RTX 4050 Graphics 6GB VRAM, 144Hz Display (16GB DDR5/512GB SSD/Windows 11 Home/Wi-Fi 6),15.6\"(39.6cms) FHD ANV15-51', 'Acer Aspire 5 Gaming Laptop Intel Core i5 12th gen (16 GB/512 GB SSD/Win11 Home/4GB Graphics/RTX 2050) A515-57G (15.6\" FHD Display, 1.8 Kg)', 'Acer Aspire 3 Thin and Light Laptop Intel Core i5 12th Generation (Windows 11 Home/8 GB/512 GB SSD) A315-59 with 15.6-inch (39.6 cms) Full HD Display, 1.7 KG, Pure Silver', 'Acer Aspire 5 Gaming Laptop Intel Core i5 13th Gen (16 GB/512 GB SSD/Windows 11 Home/4 GB Graphics/NVIDIA GeForce RTX 2050) A514-56GM,14\" WUXGA Display, 1.56 KG', 'Acer Nitro 5 Gaming Laptop AMD Ryzen™ 7 7735HS Octa-Core Processor- (16GB/ 512 GB SSD/NVIDIA GeForce RTX 3050 4GB Graphics/Windows 11 Home) AN515-47 with 39.6 Cm (15.6 Inch) IPS Display', 'Acer Travelmate Business Laptop Intel Core i7-11th Gen (Windows 11 Home/16 GB Ram/1TB SSD/Intel Iris Xe Graphics/14.0 IPS Display/Backlit Keyboard/Fingerprint Sensor) TMP214-53', 'Acer Extensa 15 Laptop Intel Core i3 N305 8 core Processor (8 GB/256 GB SSD/Win11 Home/MS Office Home and Student/Intel UHD Graphics/1.7 KG/Silver) EX215-33 FHD Display', 'Acer Extensa 15 Intel Core i3 N305 8 core Processor (8 GB/512 GB SSD/Win11 Home/MS Office Home and Student/Intel UHD Graphics/1.7 KG/Silver) EX215-33 FHD Display Laptop', 'Acer Aspire 3 Laptop AMD Ryzen 5 7520U Quad-Core Processor (Windows 11 Home/ 8 GB RAM/ 512 GB SSD/AMD Radeon Graphics) A315-24P, 39.6 cm (15.6\") Full HD Display, 1.78 KG, Pure Silver', 'Acer Predator Helios Neo 16 Gaming Laptop 13th Gen Intel Core i7 Processor (16 GB/1 TB SSD/Windows 11 Home/NVIDIA ® GeForce RTX \\x84¢ 4050) PHN16-71, (16\") WUXGA Display', 'Acer Aspire 7 AMD Ryzen 5 Hexa Core 5500U 15.6 inches Gaming Laptop (8GB/512GB SSD/Windows 11 Home/4GB Graphics/NVIDIA GeForce GTX 1650) A715-42G, Black, 2.15Kg', 'Acer Aspire 3 Spin 14 Intel Core i3 N305 Laptop (Windows 11 Home/8 GB/512 GB/AES Pen Solution/MSO) A3SP14-31PT, Multi-Touch WUXGA Display, 1.54 KG, Obsidian Black', 'Acer Nitro 5 12th Gen Intel Core Intel Core i5-12500H Processor 15.6-inch (39.62 cms) FHD 144 Hz Gaming Laptop (16 GB RAM/RTX 3050 Graphics/512 GB SSD/Windows 11 Home/2.5 Kgs/RGB Backlit), AN515-58', 'Acer Aspire 7 11th Intel Core i5-10300H Processor 15.6 inches Full HD IPS Gaming Laptop (8 GB/512 GB SSD/Windows 11 Home/4 GB Graphics/NVIDIA GeForce GTX 1650) A715-75G, Black, 2.15 kg', 'Acer Aspire 3 14 Intel Core i3 N305 8-core Processor (8 GB/ 512 GB SSD/Windows 11 Home/MS Office) Pure Silver, A314-36M, 35.56 cm (14\") Full HD Display Laptop', 'Acer Nitro V Gaming Laptop 13th Gen Intel Core i5-13420H with RTX 3050 Graphics 6 GB VRAM, 144Hz Display (8 GB DDR5/512GB SSD/Windows 11 Home/Wi-Fi 6),15.6\"(39.6cms) FHD ANV15-51', 'Acer Swift X Intel Core i7-11390H Processor 16.1\" (40.89cms) Premium Powerful Laptop- (16 GB/1TB SSD/Win 11 Home/NVIDIA GeForce RTX 3050 Ti 4GB Graphics/Steel Grey, 1.9 KG, MSO), SFX16-51G', 'Acer Aspire 3 Laptop Intel core i5 12th Gen - (8 GB/512 GB SSD/Windows 11 Home/MS Office Home and Student 2021) A315-59 with 39.6 cm (15.6 inches) FHD Display / 1.7 Kgs']\n"
          ]
        }
      ],
      "source": [
        "names = driver.find_elements(By.XPATH,\".//span[@class='a-size-medium a-color-base a-text-normal']\")\n",
        "for i in names:\n",
        "    laptop_name=[i.text for i in names]\n",
        "print(laptop_name)"
      ]
    },
    {
      "cell_type": "code",
      "execution_count": null,
      "id": "05beb96b",
      "metadata": {
        "id": "05beb96b",
        "outputId": "affb1652-b009-4ed4-8c71-ef804cea82a2"
      },
      "outputs": [
        {
          "name": "stdout",
          "output_type": "stream",
          "text": [
            "['Acer One 14 Business Laptop AMD Ryzen 3 3250U Processor (Windows 11 Home/8GB RAM/1 TB HDD/AMD Radeon Graphics/MS Office) Z2-493 with 35.56 cm (14.0\") HD Display', 'Acer Aspire Lite AMD Ryzen 5 5500U Premium Thin and Light Laptop (16 GB RAM/512 GB SSD/Windows 11 Home) AL15-41, 39.62 cm (15.6\") Full HD Display, Metal Body, Steel Gray, 1.59 KG', 'Acer Aspire Lite 11th Gen Intel Core i3 Premium Metal Laptop (8GB RAM/256GB SSD/Windows 11 Home) AL15-51, 39.62cm (15.6\") Full HD Display, Metal Body, Steel Gray, 1.59 Kg', 'Acer Aspire Lite 12th Gen Intel Core i3-1215U Premium Metal Laptop (Windows 11 Home/8 GB RAM/512GB SSD) AL15-52, 39.62cm (15.6\") Full HD Display, Metal Body, Steel Gray, 1.59 Kg', 'Acer Aspire Lite 12th Gen Intel Core i5-1235U Thin and Light Laptop (Windows 11 Home/16GB RAM/512GB SSD/Intel Iris Xe Graphics) AL15-52, 39.62cm (15.6\") Full HD Display, Metal Body, Steel Gray, 1.6 KG', 'Acer Travelmate Business Laptop AMD Ryzen 5 5500U Processor (16GB DDR4/ 512GB SSD/AMD Radeon Graphics/Windows 11 Home) TMP214-41-G3 with 35.6 cm (14 Inches) HD Display', 'Acer Nitro V Gaming Laptop 13th Gen Intel Core i5-13420H with RTX 4050 Graphics 6GB VRAM, 144Hz Display (16GB DDR5/512GB SSD/Windows 11 Home/Wi-Fi 6),15.6\"(39.6cms) FHD ANV15-51', 'Acer Aspire 5 Gaming Laptop Intel Core i5 12th gen (16 GB/512 GB SSD/Win11 Home/4GB Graphics/RTX 2050) A515-57G (15.6\" FHD Display, 1.8 Kg)', 'Acer Aspire 3 Thin and Light Laptop Intel Core i5 12th Generation (Windows 11 Home/8 GB/512 GB SSD) A315-59 with 15.6-inch (39.6 cms) Full HD Display, 1.7 KG, Pure Silver', 'Acer Aspire 5 Gaming Laptop Intel Core i5 13th Gen (16 GB/512 GB SSD/Windows 11 Home/4 GB Graphics/NVIDIA GeForce RTX 2050) A514-56GM,14\" WUXGA Display, 1.56 KG', 'Acer Nitro 5 Gaming Laptop AMD Ryzen™ 7 7735HS Octa-Core Processor- (16GB/ 512 GB SSD/NVIDIA GeForce RTX 3050 4GB Graphics/Windows 11 Home) AN515-47 with 39.6 Cm (15.6 Inch) IPS Display', 'Acer Travelmate Business Laptop Intel Core i7-11th Gen (Windows 11 Home/16 GB Ram/1TB SSD/Intel Iris Xe Graphics/14.0 IPS Display/Backlit Keyboard/Fingerprint Sensor) TMP214-53', 'Acer Extensa 15 Laptop Intel Core i3 N305 8 core Processor (8 GB/256 GB SSD/Win11 Home/MS Office Home and Student/Intel UHD Graphics/1.7 KG/Silver) EX215-33 FHD Display', 'Acer Extensa 15 Intel Core i3 N305 8 core Processor (8 GB/512 GB SSD/Win11 Home/MS Office Home and Student/Intel UHD Graphics/1.7 KG/Silver) EX215-33 FHD Display Laptop', 'Acer Aspire 3 Laptop AMD Ryzen 5 7520U Quad-Core Processor (Windows 11 Home/ 8 GB RAM/ 512 GB SSD/AMD Radeon Graphics) A315-24P, 39.6 cm (15.6\") Full HD Display, 1.78 KG, Pure Silver', 'Acer Predator Helios Neo 16 Gaming Laptop 13th Gen Intel Core i7 Processor (16 GB/1 TB SSD/Windows 11 Home/NVIDIA ® GeForce RTX \\x84¢ 4050) PHN16-71, (16\") WUXGA Display', 'Acer Aspire 7 AMD Ryzen 5 Hexa Core 5500U 15.6 inches Gaming Laptop (8GB/512GB SSD/Windows 11 Home/4GB Graphics/NVIDIA GeForce GTX 1650) A715-42G, Black, 2.15Kg', 'Acer Aspire 3 Spin 14 Intel Core i3 N305 Laptop (Windows 11 Home/8 GB/512 GB/AES Pen Solution/MSO) A3SP14-31PT, Multi-Touch WUXGA Display, 1.54 KG, Obsidian Black', 'Acer Nitro 5 12th Gen Intel Core Intel Core i5-12500H Processor 15.6-inch (39.62 cms) FHD 144 Hz Gaming Laptop (16 GB RAM/RTX 3050 Graphics/512 GB SSD/Windows 11 Home/2.5 Kgs/RGB Backlit), AN515-58', 'Acer Aspire 7 11th Intel Core i5-10300H Processor 15.6 inches Full HD IPS Gaming Laptop (8 GB/512 GB SSD/Windows 11 Home/4 GB Graphics/NVIDIA GeForce GTX 1650) A715-75G, Black, 2.15 kg', 'Acer Aspire 3 14 Intel Core i3 N305 8-core Processor (8 GB/ 512 GB SSD/Windows 11 Home/MS Office) Pure Silver, A314-36M, 35.56 cm (14\") Full HD Display Laptop', 'Acer Nitro V Gaming Laptop 13th Gen Intel Core i5-13420H with RTX 3050 Graphics 6 GB VRAM, 144Hz Display (8 GB DDR5/512GB SSD/Windows 11 Home/Wi-Fi 6),15.6\"(39.6cms) FHD ANV15-51', 'Acer Swift X Intel Core i7-11390H Processor 16.1\" (40.89cms) Premium Powerful Laptop- (16 GB/1TB SSD/Win 11 Home/NVIDIA GeForce RTX 3050 Ti 4GB Graphics/Steel Grey, 1.9 KG, MSO), SFX16-51G', 'Acer Aspire 3 Laptop Intel core i5 12th Gen - (8 GB/512 GB SSD/Windows 11 Home/MS Office Home and Student 2021) A315-59 with 39.6 cm (15.6 inches) FHD Display / 1.7 Kgs']\n"
          ]
        }
      ],
      "source": [
        "names = driver.find_elements(By.XPATH,\".//span[@class='a-size-medium a-color-base a-text-normal']\")\n",
        "for i in names:\n",
        "    lnames=[i.text for i in names]\n",
        "print(lnames)"
      ]
    },
    {
      "cell_type": "code",
      "execution_count": null,
      "id": "d8e32cf7",
      "metadata": {
        "id": "d8e32cf7",
        "outputId": "bfea3182-fdfd-4ff7-f791-e7dd1772b784"
      },
      "outputs": [
        {
          "name": "stdout",
          "output_type": "stream",
          "text": [
            "24\n"
          ]
        }
      ],
      "source": [
        "print(len(names))"
      ]
    },
    {
      "cell_type": "code",
      "execution_count": null,
      "id": "11d57f15",
      "metadata": {
        "id": "11d57f15",
        "outputId": "11715e2f-4298-4722-fdf6-6b22c96dcb20"
      },
      "outputs": [
        {
          "name": "stdout",
          "output_type": "stream",
          "text": [
            "['24,990', '36,990', '30,990', '30,990', '42,990', '34,990', '78,900', '54,990', '40,990', '57,990', '69,999', '49,990', '31,499', '33,490', '34,990', '1,14,990', '49,790', '41,990', '67,990', '47,990', '32,750', '70,990', '89,507', '44,490']\n"
          ]
        }
      ],
      "source": [
        "price=driver.find_elements(By.XPATH,\".//span[@class='a-price-whole']\")\n",
        "for i in price:\n",
        "    laptop_price=[i.text for i in price]\n",
        "print(laptop_price)"
      ]
    },
    {
      "cell_type": "code",
      "execution_count": null,
      "id": "a3efed35",
      "metadata": {
        "id": "a3efed35",
        "outputId": "55065802-4252-46df-b303-9d45c1cd7e16"
      },
      "outputs": [
        {
          "name": "stdout",
          "output_type": "stream",
          "text": [
            "24\n"
          ]
        }
      ],
      "source": [
        "print(len(price))"
      ]
    },
    {
      "cell_type": "code",
      "execution_count": null,
      "id": "2e9d295d",
      "metadata": {
        "id": "2e9d295d"
      },
      "outputs": [],
      "source": []
    },
    {
      "cell_type": "code",
      "execution_count": null,
      "id": "49eae038",
      "metadata": {
        "id": "49eae038",
        "outputId": "ad46bdeb-0995-48e9-db83-a2a08ed1613b"
      },
      "outputs": [
        {
          "name": "stdout",
          "output_type": "stream",
          "text": [
            "['126', '302', '709', '62', '19', '6', '305', '1,066', '5', '45', '98', '1', '55', '91', '8', '213', '110', '2', '324', '2', '226', '4', '1', '4']\n"
          ]
        }
      ],
      "source": [
        "reviews=driver.find_elements(By.XPATH,\".//span[@class='a-size-base s-underline-text']\")\n",
        "for i in reviews:\n",
        "    laptop_reviews=[i.text for i in reviews]\n",
        "print(laptop_reviews)"
      ]
    },
    {
      "cell_type": "code",
      "execution_count": null,
      "id": "707524ac",
      "metadata": {
        "id": "707524ac",
        "outputId": "359dc9f8-7ae6-417c-f262-80daffbd6c60"
      },
      "outputs": [
        {
          "name": "stdout",
          "output_type": "stream",
          "text": [
            "24\n"
          ]
        }
      ],
      "source": [
        "print(len(reviews))"
      ]
    },
    {
      "cell_type": "code",
      "execution_count": null,
      "id": "12a2c639",
      "metadata": {
        "id": "12a2c639"
      },
      "outputs": [],
      "source": [
        "df=pd.DataFrame(columns=['laptop_name','laptop_price','laptop_reviews'])"
      ]
    },
    {
      "cell_type": "code",
      "execution_count": null,
      "id": "6a195f73",
      "metadata": {
        "id": "6a195f73",
        "outputId": "ebd555a1-d3f3-4a18-f610-4db44badcba8"
      },
      "outputs": [
        {
          "name": "stdout",
          "output_type": "stream",
          "text": [
            "Empty DataFrame\n",
            "Columns: [laptop_name, laptop_price, laptop_reviews]\n",
            "Index: []\n"
          ]
        }
      ],
      "source": [
        "print(df)"
      ]
    },
    {
      "cell_type": "code",
      "execution_count": null,
      "id": "2fe2354c",
      "metadata": {
        "id": "2fe2354c",
        "outputId": "d34e3d27-f093-428d-8da0-701f6ac1dd8e"
      },
      "outputs": [
        {
          "data": {
            "text/html": [
              "<div>\n",
              "<style scoped>\n",
              "    .dataframe tbody tr th:only-of-type {\n",
              "        vertical-align: middle;\n",
              "    }\n",
              "\n",
              "    .dataframe tbody tr th {\n",
              "        vertical-align: top;\n",
              "    }\n",
              "\n",
              "    .dataframe thead th {\n",
              "        text-align: right;\n",
              "    }\n",
              "</style>\n",
              "<table border=\"1\" class=\"dataframe\">\n",
              "  <thead>\n",
              "    <tr style=\"text-align: right;\">\n",
              "      <th></th>\n",
              "      <th>laptop_name</th>\n",
              "      <th>laptop_price</th>\n",
              "      <th>laptop_reviews</th>\n",
              "    </tr>\n",
              "  </thead>\n",
              "  <tbody>\n",
              "  </tbody>\n",
              "</table>\n",
              "</div>"
            ],
            "text/plain": [
              "Empty DataFrame\n",
              "Columns: [laptop_name, laptop_price, laptop_reviews]\n",
              "Index: []"
            ]
          },
          "execution_count": 101,
          "metadata": {},
          "output_type": "execute_result"
        }
      ],
      "source": [
        "df"
      ]
    },
    {
      "cell_type": "code",
      "execution_count": null,
      "id": "93aa5709",
      "metadata": {
        "id": "93aa5709"
      },
      "outputs": [],
      "source": [
        "df['laptop_name']=laptop_name\n",
        "df['laptop_price']=laptop_price\n",
        "df['laptop_reviews']=laptop_reviews"
      ]
    },
    {
      "cell_type": "code",
      "execution_count": null,
      "id": "14036dfa",
      "metadata": {
        "id": "14036dfa",
        "outputId": "06902244-9f21-4298-c371-b00de5dcfe7e"
      },
      "outputs": [
        {
          "name": "stdout",
          "output_type": "stream",
          "text": [
            "                                          laptop_name laptop_price  \\\n",
            "0   Acer One 14 Business Laptop AMD Ryzen 3 3250U ...       24,990   \n",
            "1   Acer Aspire Lite AMD Ryzen 5 5500U Premium Thi...       36,990   \n",
            "2   Acer Aspire Lite 11th Gen Intel Core i3 Premiu...       30,990   \n",
            "3   Acer Aspire Lite 12th Gen Intel Core i3-1215U ...       30,990   \n",
            "4   Acer Aspire Lite 12th Gen Intel Core i5-1235U ...       42,990   \n",
            "5   Acer Travelmate Business Laptop AMD Ryzen 5 55...       34,990   \n",
            "6   Acer Nitro V Gaming Laptop 13th Gen Intel Core...       78,900   \n",
            "7   Acer Aspire 5 Gaming Laptop Intel Core i5 12th...       54,990   \n",
            "8   Acer Aspire 3 Thin and Light Laptop Intel Core...       40,990   \n",
            "9   Acer Aspire 5 Gaming Laptop Intel Core i5 13th...       57,990   \n",
            "10  Acer Nitro 5 Gaming Laptop AMD Ryzen™ 7 7735HS...       69,999   \n",
            "11  Acer Travelmate Business Laptop Intel Core i7-...       49,990   \n",
            "12  Acer Extensa 15 Laptop Intel Core i3 N305 8 co...       31,499   \n",
            "13  Acer Extensa 15 Intel Core i3 N305 8 core Proc...       33,490   \n",
            "14  Acer Aspire 3 Laptop AMD Ryzen 5 7520U Quad-Co...       34,990   \n",
            "15  Acer Predator Helios Neo 16 Gaming Laptop 13th...     1,14,990   \n",
            "16  Acer Aspire 7 AMD Ryzen 5 Hexa Core 5500U 15.6...       49,790   \n",
            "17  Acer Aspire 3 Spin 14 Intel Core i3 N305 Lapto...       41,990   \n",
            "18  Acer Nitro 5 12th Gen Intel Core Intel Core i5...       67,990   \n",
            "19  Acer Aspire 7 11th Intel Core i5-10300H Proces...       47,990   \n",
            "20  Acer Aspire 3 14 Intel Core i3 N305 8-core Pro...       32,750   \n",
            "21  Acer Nitro V Gaming Laptop 13th Gen Intel Core...       70,990   \n",
            "22  Acer Swift X Intel Core i7-11390H Processor 16...       89,507   \n",
            "23  Acer Aspire 3 Laptop Intel core i5 12th Gen - ...       44,490   \n",
            "\n",
            "   laptop_reviews                                        laptop-name  \n",
            "0             126  Acer One 14 Business Laptop AMD Ryzen 3 3250U ...  \n",
            "1             302  Acer Aspire Lite AMD Ryzen 5 5500U Premium Thi...  \n",
            "2             709  Acer Aspire Lite 11th Gen Intel Core i3 Premiu...  \n",
            "3              62  Acer Aspire Lite 12th Gen Intel Core i3-1215U ...  \n",
            "4              19  Acer Aspire Lite 12th Gen Intel Core i5-1235U ...  \n",
            "5               6  Acer Travelmate Business Laptop AMD Ryzen 5 55...  \n",
            "6             305  Acer Nitro V Gaming Laptop 13th Gen Intel Core...  \n",
            "7           1,066  Acer Aspire 5 Gaming Laptop Intel Core i5 12th...  \n",
            "8               5  Acer Aspire 3 Thin and Light Laptop Intel Core...  \n",
            "9              45  Acer Aspire 5 Gaming Laptop Intel Core i5 13th...  \n",
            "10             98  Acer Nitro 5 Gaming Laptop AMD Ryzen™ 7 7735HS...  \n",
            "11              1  Acer Travelmate Business Laptop Intel Core i7-...  \n",
            "12             55  Acer Extensa 15 Laptop Intel Core i3 N305 8 co...  \n",
            "13             91  Acer Extensa 15 Intel Core i3 N305 8 core Proc...  \n",
            "14              8  Acer Aspire 3 Laptop AMD Ryzen 5 7520U Quad-Co...  \n",
            "15            213  Acer Predator Helios Neo 16 Gaming Laptop 13th...  \n",
            "16            110  Acer Aspire 7 AMD Ryzen 5 Hexa Core 5500U 15.6...  \n",
            "17              2  Acer Aspire 3 Spin 14 Intel Core i3 N305 Lapto...  \n",
            "18            324  Acer Nitro 5 12th Gen Intel Core Intel Core i5...  \n",
            "19              2  Acer Aspire 7 11th Intel Core i5-10300H Proces...  \n",
            "20            226  Acer Aspire 3 14 Intel Core i3 N305 8-core Pro...  \n",
            "21              4  Acer Nitro V Gaming Laptop 13th Gen Intel Core...  \n",
            "22              1  Acer Swift X Intel Core i7-11390H Processor 16...  \n",
            "23              4  Acer Aspire 3 Laptop Intel core i5 12th Gen - ...  \n"
          ]
        }
      ],
      "source": [
        "print(df)"
      ]
    },
    {
      "cell_type": "code",
      "execution_count": null,
      "id": "50555798",
      "metadata": {
        "id": "50555798",
        "outputId": "521e75b7-7036-4ded-921c-32f6b89b97e5"
      },
      "outputs": [
        {
          "data": {
            "text/html": [
              "<div>\n",
              "<style scoped>\n",
              "    .dataframe tbody tr th:only-of-type {\n",
              "        vertical-align: middle;\n",
              "    }\n",
              "\n",
              "    .dataframe tbody tr th {\n",
              "        vertical-align: top;\n",
              "    }\n",
              "\n",
              "    .dataframe thead th {\n",
              "        text-align: right;\n",
              "    }\n",
              "</style>\n",
              "<table border=\"1\" class=\"dataframe\">\n",
              "  <thead>\n",
              "    <tr style=\"text-align: right;\">\n",
              "      <th></th>\n",
              "      <th>laptop_name</th>\n",
              "      <th>laptop_price</th>\n",
              "      <th>laptop_reviews</th>\n",
              "      <th>laptop-name</th>\n",
              "    </tr>\n",
              "  </thead>\n",
              "  <tbody>\n",
              "    <tr>\n",
              "      <th>0</th>\n",
              "      <td>Acer One 14 Business Laptop AMD Ryzen 3 3250U ...</td>\n",
              "      <td>24,990</td>\n",
              "      <td>126</td>\n",
              "      <td>Acer One 14 Business Laptop AMD Ryzen 3 3250U ...</td>\n",
              "    </tr>\n",
              "    <tr>\n",
              "      <th>1</th>\n",
              "      <td>Acer Aspire Lite AMD Ryzen 5 5500U Premium Thi...</td>\n",
              "      <td>36,990</td>\n",
              "      <td>302</td>\n",
              "      <td>Acer Aspire Lite AMD Ryzen 5 5500U Premium Thi...</td>\n",
              "    </tr>\n",
              "    <tr>\n",
              "      <th>2</th>\n",
              "      <td>Acer Aspire Lite 11th Gen Intel Core i3 Premiu...</td>\n",
              "      <td>30,990</td>\n",
              "      <td>709</td>\n",
              "      <td>Acer Aspire Lite 11th Gen Intel Core i3 Premiu...</td>\n",
              "    </tr>\n",
              "    <tr>\n",
              "      <th>3</th>\n",
              "      <td>Acer Aspire Lite 12th Gen Intel Core i3-1215U ...</td>\n",
              "      <td>30,990</td>\n",
              "      <td>62</td>\n",
              "      <td>Acer Aspire Lite 12th Gen Intel Core i3-1215U ...</td>\n",
              "    </tr>\n",
              "    <tr>\n",
              "      <th>4</th>\n",
              "      <td>Acer Aspire Lite 12th Gen Intel Core i5-1235U ...</td>\n",
              "      <td>42,990</td>\n",
              "      <td>19</td>\n",
              "      <td>Acer Aspire Lite 12th Gen Intel Core i5-1235U ...</td>\n",
              "    </tr>\n",
              "    <tr>\n",
              "      <th>5</th>\n",
              "      <td>Acer Travelmate Business Laptop AMD Ryzen 5 55...</td>\n",
              "      <td>34,990</td>\n",
              "      <td>6</td>\n",
              "      <td>Acer Travelmate Business Laptop AMD Ryzen 5 55...</td>\n",
              "    </tr>\n",
              "    <tr>\n",
              "      <th>6</th>\n",
              "      <td>Acer Nitro V Gaming Laptop 13th Gen Intel Core...</td>\n",
              "      <td>78,900</td>\n",
              "      <td>305</td>\n",
              "      <td>Acer Nitro V Gaming Laptop 13th Gen Intel Core...</td>\n",
              "    </tr>\n",
              "    <tr>\n",
              "      <th>7</th>\n",
              "      <td>Acer Aspire 5 Gaming Laptop Intel Core i5 12th...</td>\n",
              "      <td>54,990</td>\n",
              "      <td>1,066</td>\n",
              "      <td>Acer Aspire 5 Gaming Laptop Intel Core i5 12th...</td>\n",
              "    </tr>\n",
              "    <tr>\n",
              "      <th>8</th>\n",
              "      <td>Acer Aspire 3 Thin and Light Laptop Intel Core...</td>\n",
              "      <td>40,990</td>\n",
              "      <td>5</td>\n",
              "      <td>Acer Aspire 3 Thin and Light Laptop Intel Core...</td>\n",
              "    </tr>\n",
              "    <tr>\n",
              "      <th>9</th>\n",
              "      <td>Acer Aspire 5 Gaming Laptop Intel Core i5 13th...</td>\n",
              "      <td>57,990</td>\n",
              "      <td>45</td>\n",
              "      <td>Acer Aspire 5 Gaming Laptop Intel Core i5 13th...</td>\n",
              "    </tr>\n",
              "    <tr>\n",
              "      <th>10</th>\n",
              "      <td>Acer Nitro 5 Gaming Laptop AMD Ryzen™ 7 7735HS...</td>\n",
              "      <td>69,999</td>\n",
              "      <td>98</td>\n",
              "      <td>Acer Nitro 5 Gaming Laptop AMD Ryzen™ 7 7735HS...</td>\n",
              "    </tr>\n",
              "    <tr>\n",
              "      <th>11</th>\n",
              "      <td>Acer Travelmate Business Laptop Intel Core i7-...</td>\n",
              "      <td>49,990</td>\n",
              "      <td>1</td>\n",
              "      <td>Acer Travelmate Business Laptop Intel Core i7-...</td>\n",
              "    </tr>\n",
              "    <tr>\n",
              "      <th>12</th>\n",
              "      <td>Acer Extensa 15 Laptop Intel Core i3 N305 8 co...</td>\n",
              "      <td>31,499</td>\n",
              "      <td>55</td>\n",
              "      <td>Acer Extensa 15 Laptop Intel Core i3 N305 8 co...</td>\n",
              "    </tr>\n",
              "    <tr>\n",
              "      <th>13</th>\n",
              "      <td>Acer Extensa 15 Intel Core i3 N305 8 core Proc...</td>\n",
              "      <td>33,490</td>\n",
              "      <td>91</td>\n",
              "      <td>Acer Extensa 15 Intel Core i3 N305 8 core Proc...</td>\n",
              "    </tr>\n",
              "    <tr>\n",
              "      <th>14</th>\n",
              "      <td>Acer Aspire 3 Laptop AMD Ryzen 5 7520U Quad-Co...</td>\n",
              "      <td>34,990</td>\n",
              "      <td>8</td>\n",
              "      <td>Acer Aspire 3 Laptop AMD Ryzen 5 7520U Quad-Co...</td>\n",
              "    </tr>\n",
              "    <tr>\n",
              "      <th>15</th>\n",
              "      <td>Acer Predator Helios Neo 16 Gaming Laptop 13th...</td>\n",
              "      <td>1,14,990</td>\n",
              "      <td>213</td>\n",
              "      <td>Acer Predator Helios Neo 16 Gaming Laptop 13th...</td>\n",
              "    </tr>\n",
              "    <tr>\n",
              "      <th>16</th>\n",
              "      <td>Acer Aspire 7 AMD Ryzen 5 Hexa Core 5500U 15.6...</td>\n",
              "      <td>49,790</td>\n",
              "      <td>110</td>\n",
              "      <td>Acer Aspire 7 AMD Ryzen 5 Hexa Core 5500U 15.6...</td>\n",
              "    </tr>\n",
              "    <tr>\n",
              "      <th>17</th>\n",
              "      <td>Acer Aspire 3 Spin 14 Intel Core i3 N305 Lapto...</td>\n",
              "      <td>41,990</td>\n",
              "      <td>2</td>\n",
              "      <td>Acer Aspire 3 Spin 14 Intel Core i3 N305 Lapto...</td>\n",
              "    </tr>\n",
              "    <tr>\n",
              "      <th>18</th>\n",
              "      <td>Acer Nitro 5 12th Gen Intel Core Intel Core i5...</td>\n",
              "      <td>67,990</td>\n",
              "      <td>324</td>\n",
              "      <td>Acer Nitro 5 12th Gen Intel Core Intel Core i5...</td>\n",
              "    </tr>\n",
              "    <tr>\n",
              "      <th>19</th>\n",
              "      <td>Acer Aspire 7 11th Intel Core i5-10300H Proces...</td>\n",
              "      <td>47,990</td>\n",
              "      <td>2</td>\n",
              "      <td>Acer Aspire 7 11th Intel Core i5-10300H Proces...</td>\n",
              "    </tr>\n",
              "    <tr>\n",
              "      <th>20</th>\n",
              "      <td>Acer Aspire 3 14 Intel Core i3 N305 8-core Pro...</td>\n",
              "      <td>32,750</td>\n",
              "      <td>226</td>\n",
              "      <td>Acer Aspire 3 14 Intel Core i3 N305 8-core Pro...</td>\n",
              "    </tr>\n",
              "    <tr>\n",
              "      <th>21</th>\n",
              "      <td>Acer Nitro V Gaming Laptop 13th Gen Intel Core...</td>\n",
              "      <td>70,990</td>\n",
              "      <td>4</td>\n",
              "      <td>Acer Nitro V Gaming Laptop 13th Gen Intel Core...</td>\n",
              "    </tr>\n",
              "    <tr>\n",
              "      <th>22</th>\n",
              "      <td>Acer Swift X Intel Core i7-11390H Processor 16...</td>\n",
              "      <td>89,507</td>\n",
              "      <td>1</td>\n",
              "      <td>Acer Swift X Intel Core i7-11390H Processor 16...</td>\n",
              "    </tr>\n",
              "    <tr>\n",
              "      <th>23</th>\n",
              "      <td>Acer Aspire 3 Laptop Intel core i5 12th Gen - ...</td>\n",
              "      <td>44,490</td>\n",
              "      <td>4</td>\n",
              "      <td>Acer Aspire 3 Laptop Intel core i5 12th Gen - ...</td>\n",
              "    </tr>\n",
              "  </tbody>\n",
              "</table>\n",
              "</div>"
            ],
            "text/plain": [
              "                                          laptop_name laptop_price  \\\n",
              "0   Acer One 14 Business Laptop AMD Ryzen 3 3250U ...       24,990   \n",
              "1   Acer Aspire Lite AMD Ryzen 5 5500U Premium Thi...       36,990   \n",
              "2   Acer Aspire Lite 11th Gen Intel Core i3 Premiu...       30,990   \n",
              "3   Acer Aspire Lite 12th Gen Intel Core i3-1215U ...       30,990   \n",
              "4   Acer Aspire Lite 12th Gen Intel Core i5-1235U ...       42,990   \n",
              "5   Acer Travelmate Business Laptop AMD Ryzen 5 55...       34,990   \n",
              "6   Acer Nitro V Gaming Laptop 13th Gen Intel Core...       78,900   \n",
              "7   Acer Aspire 5 Gaming Laptop Intel Core i5 12th...       54,990   \n",
              "8   Acer Aspire 3 Thin and Light Laptop Intel Core...       40,990   \n",
              "9   Acer Aspire 5 Gaming Laptop Intel Core i5 13th...       57,990   \n",
              "10  Acer Nitro 5 Gaming Laptop AMD Ryzen™ 7 7735HS...       69,999   \n",
              "11  Acer Travelmate Business Laptop Intel Core i7-...       49,990   \n",
              "12  Acer Extensa 15 Laptop Intel Core i3 N305 8 co...       31,499   \n",
              "13  Acer Extensa 15 Intel Core i3 N305 8 core Proc...       33,490   \n",
              "14  Acer Aspire 3 Laptop AMD Ryzen 5 7520U Quad-Co...       34,990   \n",
              "15  Acer Predator Helios Neo 16 Gaming Laptop 13th...     1,14,990   \n",
              "16  Acer Aspire 7 AMD Ryzen 5 Hexa Core 5500U 15.6...       49,790   \n",
              "17  Acer Aspire 3 Spin 14 Intel Core i3 N305 Lapto...       41,990   \n",
              "18  Acer Nitro 5 12th Gen Intel Core Intel Core i5...       67,990   \n",
              "19  Acer Aspire 7 11th Intel Core i5-10300H Proces...       47,990   \n",
              "20  Acer Aspire 3 14 Intel Core i3 N305 8-core Pro...       32,750   \n",
              "21  Acer Nitro V Gaming Laptop 13th Gen Intel Core...       70,990   \n",
              "22  Acer Swift X Intel Core i7-11390H Processor 16...       89,507   \n",
              "23  Acer Aspire 3 Laptop Intel core i5 12th Gen - ...       44,490   \n",
              "\n",
              "   laptop_reviews                                        laptop-name  \n",
              "0             126  Acer One 14 Business Laptop AMD Ryzen 3 3250U ...  \n",
              "1             302  Acer Aspire Lite AMD Ryzen 5 5500U Premium Thi...  \n",
              "2             709  Acer Aspire Lite 11th Gen Intel Core i3 Premiu...  \n",
              "3              62  Acer Aspire Lite 12th Gen Intel Core i3-1215U ...  \n",
              "4              19  Acer Aspire Lite 12th Gen Intel Core i5-1235U ...  \n",
              "5               6  Acer Travelmate Business Laptop AMD Ryzen 5 55...  \n",
              "6             305  Acer Nitro V Gaming Laptop 13th Gen Intel Core...  \n",
              "7           1,066  Acer Aspire 5 Gaming Laptop Intel Core i5 12th...  \n",
              "8               5  Acer Aspire 3 Thin and Light Laptop Intel Core...  \n",
              "9              45  Acer Aspire 5 Gaming Laptop Intel Core i5 13th...  \n",
              "10             98  Acer Nitro 5 Gaming Laptop AMD Ryzen™ 7 7735HS...  \n",
              "11              1  Acer Travelmate Business Laptop Intel Core i7-...  \n",
              "12             55  Acer Extensa 15 Laptop Intel Core i3 N305 8 co...  \n",
              "13             91  Acer Extensa 15 Intel Core i3 N305 8 core Proc...  \n",
              "14              8  Acer Aspire 3 Laptop AMD Ryzen 5 7520U Quad-Co...  \n",
              "15            213  Acer Predator Helios Neo 16 Gaming Laptop 13th...  \n",
              "16            110  Acer Aspire 7 AMD Ryzen 5 Hexa Core 5500U 15.6...  \n",
              "17              2  Acer Aspire 3 Spin 14 Intel Core i3 N305 Lapto...  \n",
              "18            324  Acer Nitro 5 12th Gen Intel Core Intel Core i5...  \n",
              "19              2  Acer Aspire 7 11th Intel Core i5-10300H Proces...  \n",
              "20            226  Acer Aspire 3 14 Intel Core i3 N305 8-core Pro...  \n",
              "21              4  Acer Nitro V Gaming Laptop 13th Gen Intel Core...  \n",
              "22              1  Acer Swift X Intel Core i7-11390H Processor 16...  \n",
              "23              4  Acer Aspire 3 Laptop Intel core i5 12th Gen - ...  "
            ]
          },
          "execution_count": 130,
          "metadata": {},
          "output_type": "execute_result"
        }
      ],
      "source": [
        "df"
      ]
    },
    {
      "cell_type": "code",
      "execution_count": null,
      "id": "f045b5d6",
      "metadata": {
        "id": "f045b5d6"
      },
      "outputs": [],
      "source": [
        "df.to_csv(\"Dell_data.csv\")"
      ]
    }
  ],
  "metadata": {
    "kernelspec": {
      "display_name": "Python 3 (ipykernel)",
      "language": "python",
      "name": "python3"
    },
    "language_info": {
      "codemirror_mode": {
        "name": "ipython",
        "version": 3
      },
      "file_extension": ".py",
      "mimetype": "text/x-python",
      "name": "python",
      "nbconvert_exporter": "python",
      "pygments_lexer": "ipython3",
      "version": "3.11.5"
    },
    "colab": {
      "provenance": [],
      "include_colab_link": true
    }
  },
  "nbformat": 4,
  "nbformat_minor": 5
}